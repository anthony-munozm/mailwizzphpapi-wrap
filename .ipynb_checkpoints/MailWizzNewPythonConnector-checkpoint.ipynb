{
 "cells": [
  {
   "cell_type": "code",
   "execution_count": 1,
   "metadata": {},
   "outputs": [],
   "source": [
    "import requests\n",
    "import json"
   ]
  },
  {
   "cell_type": "code",
   "execution_count": 2,
   "metadata": {},
   "outputs": [],
   "source": [
    "INTERNAL_SERVER = \"http://localhost:8080\""
   ]
  },
  {
   "cell_type": "code",
   "execution_count": 3,
   "metadata": {},
   "outputs": [],
   "source": [
    "def get_subscribers_user_add(INTERNAL_SERVER, PUBLIC_KEY, PRIVATE_KEY, API_URL, payload):\n",
    "    \n",
    "    url = \"{}/subscribers/user/add\".format(INTERNAL_SERVER)\n",
    "    \n",
    "    headers = {\n",
    "        'public-key': PUBLIC_KEY,\n",
    "        'private-key': PRIVATE_KEY,\n",
    "        'Content-Type': \"application/x-www-form-urlencoded\",\n",
    "        'api-url': API_URL,\n",
    "        'cache-control': \"no-cache\",\n",
    "        'Postman-Token': \"b27bb318-7376-4d05-b0de-191cbcfa9dcd\"\n",
    "        }\n",
    "\n",
    "    response = requests.request(\"POST\", url, data=payload, headers=headers)\n",
    "    \n",
    "    json_data = json.loads(response.text)\n",
    "    \n",
    "    return json_data"
   ]
  },
  {
   "cell_type": "code",
   "execution_count": 4,
   "metadata": {},
   "outputs": [],
   "source": [
    "#NTERNAL_SERVER = \"http://localhost:8080\"\n",
    "#PUBLIC_KEY = \"baa77c704bdcf92fd635c9d757650c405cc70000\"\n",
    "#PRIVATE_KEY = \"510d15262bfdd86f91ea3c371268d824a7a24eb9\"\n",
    "#API_URL = \"http://mailer46.en-vi-ar.com/api\"\n",
    "#payload = \"list=hx786g44lr300&fname=james&lname=smith&email=anthony-custom-fields6%40yahoo.com&city=Beverly%20Hills&state=CA&zip=90210&address=CA&phone1=433454534&phone2=5435345345&ip=111.111.11.11&dsid=35555&undefined=\"\n",
    "\n",
    "#get_subscribers_user_add(INTERNAL_SERVER, PUBLIC_KEY, PRIVATE_KEY, API_URL, payload)"
   ]
  },
  {
   "cell_type": "code",
   "execution_count": null,
   "metadata": {},
   "outputs": [],
   "source": [
    "def get_lists_create(INTERNAL_SERVER, PUBLIC_KEY, PRIVATE_KEY, API_URL, payload):\n",
    "    \n",
    "    url = \"{}/lists/create\".format(INTERNAL_SERVER)\n",
    "    \n",
    "    headers = {\n",
    "        'public-key': PUBLIC_KEY,\n",
    "        'private-key': PRIVATE_KEY,\n",
    "        'Content-Type': \"application/x-www-form-urlencoded\",\n",
    "        'api-url': API_URL,\n",
    "        'cache-control': \"no-cache\",\n",
    "        'Postman-Token': \"b27bb318-7376-4d05-b0de-191cbcfa9dcd\"\n",
    "        }\n",
    "\n",
    "    response = requests.request(\"POST\", url, data=payload, headers=headers)\n",
    "    \n",
    "    json_data = json.loads(response.text)\n",
    "    \n",
    "    return json_data"
   ]
  },
  {
   "cell_type": "code",
   "execution_count": null,
   "metadata": {},
   "outputs": [],
   "source": [
    "#INTERNAL_SERVER = \"http://localhost:8080\"\n",
    "#PUBLIC_KEY = \"67e0747ff750686c8961a6e844b2ab0ad94a24a0\"\n",
    "#PRIVATE_KEY = \"81114a2506cef8834e084ced33a77f0b63f64f68\"\n",
    "#API_URL = \"http://mailer46.en-vi-ar.com/api\"\n",
    "\n",
    "#payload = \"general_name=test%2011&general_description=This%20is%20a%20test%20list%2C%20created%20from%20the%20API.&defaults_from_name=Chris%20Barlow&defaults_from_email=anthony%40gmail.com&defaults_reply_to=anthony%40gmail.com&defaults_subject=testing%20subject&notifications_subscribe=yes&notifications_unsubscribe=yes&notifications_subscribe_to=anthony%40gmail.com&notifications_unsubscribe_to=anthony%40gmail.com&company_name=Chris%20Barlow%20INC&company_country=Costa%20Rica&company_zone=CA&company_address_1=CA&company_address_2=beverly&company_zone_name=zone%20&company_city=REALLY%20BIG%20COMPANY&company_zip_code=11111&general_opt_in=double&undefined=\"\n",
    "    \n",
    "#get_lists_create(INTERNAL_SERVER, PUBLIC_KEY, PRIVATE_KEY, API_URL, payload)"
   ]
  },
  {
   "cell_type": "code",
   "execution_count": null,
   "metadata": {},
   "outputs": [],
   "source": [
    "def get_lists_show(INTERNAL_SERVER, PUBLIC_KEY, PRIVATE_KEY, API_URL, payload):\n",
    "    \n",
    "    url = \"{}/lists/show\".format(INTERNAL_SERVER)\n",
    "\n",
    "    payload = \"\"\n",
    "    \n",
    "    headers = {\n",
    "        'public-key': PUBLIC_KEY,\n",
    "        'private-key': PRIVATE_KEY,\n",
    "        'Content-Type': \"application/x-www-form-urlencoded\",\n",
    "        'api-url': API_URL,\n",
    "        'cache-control': \"no-cache\",\n",
    "        'Postman-Token': \"b27bb318-7376-4d05-b0de-191cbcfa9dcd\"\n",
    "        }\n",
    "\n",
    "    response = requests.request(\"GET\", url, data=payload, headers=headers)\n",
    "\n",
    "    json_data = json.loads(response.text)\n",
    "    \n",
    "    return json_data"
   ]
  },
  {
   "cell_type": "code",
   "execution_count": null,
   "metadata": {},
   "outputs": [],
   "source": [
    "#INTERNAL_SERVER = \"http://localhost:8080\"\n",
    "#PUBLIC_KEY = \"67e0747ff750686c8961a6e844b2ab0ad94a24a0\"\n",
    "#PRIVATE_KEY = \"81114a2506cef8834e084ced33a77f0b63f64f68\"\n",
    "#API_URL = \"http://mailer46.en-vi-ar.com/api\"\n",
    "#payload = \"\"\n",
    "    \n",
    "#get_lists_show(INTERNAL_SERVER, PUBLIC_KEY, PRIVATE_KEY, API_URL, payload)"
   ]
  },
  {
   "cell_type": "code",
   "execution_count": null,
   "metadata": {},
   "outputs": [],
   "source": [
    "from flask import Flask, request\n",
    "\n",
    "app = Flask(__name__)\n",
    "\n",
    "@app.route(\"/lists/show\", methods=['GET', 'POST'])\n",
    "def get_lists_show_api():\n",
    "    \n",
    "    if request.method == 'GET':\n",
    "\n",
    "        PUBLIC_KEY = request.args.get(\"public_key\", None)\n",
    "        PRIVATE_KEY = request.args.get(\"private_key\", None)\n",
    "        API_URL = request.args.get(\"api_url\", None)\n",
    "        payload = str(request.__dict__[\"environ\"][\"QUERY_STRING\"])\n",
    "\n",
    "        result = get_lists_show(INTERNAL_SERVER, PUBLIC_KEY, PRIVATE_KEY, API_URL, payload)\n",
    "\n",
    "        return str(result)\n",
    "    \n",
    "    else:\n",
    "        \n",
    "        PUBLIC_KEY = request.headers[\"public-key\"]\n",
    "        PRIVATE_KEY = request.headers[\"private-key\"]\n",
    "        API_URL = request.headers[\"api-url\"]\n",
    "        payload = str(request.form)\n",
    "        \n",
    "        values = list(request.form.values())\n",
    "        keys = list(request.form.keys())\n",
    "        \n",
    "        params_string = \"\"\n",
    "        for x, y in zip(values, keys):\n",
    "            new_pair = \"=\".join([y,x+\"&\"])\n",
    "            params_string = params_string + new_pair\n",
    "    \n",
    "        result = get_lists_show(INTERNAL_SERVER, PUBLIC_KEY, PRIVATE_KEY, API_URL, payload=params_string)\n",
    "\n",
    "        return str(result)\n",
    "        \n",
    "        \n",
    "\n",
    "\n",
    "\n",
    "@app.route(\"/lists/create\", methods=['GET', 'POST'])\n",
    "def get_lists_create_api():\n",
    "    \n",
    "    if request.method == 'GET':\n",
    "\n",
    "        PUBLIC_KEY = request.args.get(\"public_key\", None)\n",
    "        PRIVATE_KEY = request.args.get(\"private_key\", None)\n",
    "        API_URL = request.args.get(\"api_url\", None)\n",
    "        payload = str(request.__dict__[\"environ\"][\"QUERY_STRING\"])\n",
    "\n",
    "        result = get_lists_create(INTERNAL_SERVER, PUBLIC_KEY, PRIVATE_KEY, API_URL, payload)\n",
    "\n",
    "        return str(result)\n",
    "    \n",
    "    else:\n",
    "                \n",
    "        PUBLIC_KEY = request.headers[\"public-key\"]\n",
    "        PRIVATE_KEY = request.headers[\"private-key\"]\n",
    "        API_URL = request.headers[\"api-url\"]\n",
    "        payload = str(request.form)\n",
    "        \n",
    "        values = list(request.form.values())\n",
    "        keys = list(request.form.keys())\n",
    "        \n",
    "        params_string = \"\"\n",
    "        for x, y in zip(values, keys):\n",
    "            new_pair = \"=\".join([y,x+\"&\"])\n",
    "            params_string = params_string + new_pair\n",
    "    \n",
    "        result = get_lists_create(INTERNAL_SERVER, PUBLIC_KEY, PRIVATE_KEY, API_URL, payload=params_string)\n",
    "\n",
    "        return str(result)\n",
    "\n",
    "\n",
    "\n",
    "@app.route(\"/subscribers/user/add\", methods=['GET', 'POST'])\n",
    "def get_subscribers_user_add_api():\n",
    "    \n",
    "    if request.method == 'GET':\n",
    "\n",
    "        PUBLIC_KEY = request.args.get(\"public_key\", None)\n",
    "        PRIVATE_KEY = request.args.get(\"private_key\", None)\n",
    "        API_URL = request.args.get(\"api_url\", None)\n",
    "        payload = str(request.__dict__[\"environ\"][\"QUERY_STRING\"])\n",
    "\n",
    "        result = get_subscribers_user_add(INTERNAL_SERVER, PUBLIC_KEY, PRIVATE_KEY, API_URL, payload)\n",
    "\n",
    "        return str(result)\n",
    "    \n",
    "    else:\n",
    "        \n",
    "        PUBLIC_KEY = request.headers[\"public-key\"]\n",
    "        PRIVATE_KEY = request.headers[\"private-key\"]\n",
    "        API_URL = request.headers[\"api-url\"]\n",
    "        payload = str(request.form)\n",
    "        \n",
    "        values = list(request.form.values())\n",
    "        keys = list(request.form.keys())\n",
    "        \n",
    "        params_string = \"\"\n",
    "        for x, y in zip(values, keys):\n",
    "            new_pair = \"=\".join([y,x+\"&\"])\n",
    "            params_string = params_string + new_pair\n",
    "    \n",
    "        result = get_subscribers_user_add(INTERNAL_SERVER, PUBLIC_KEY, PRIVATE_KEY, API_URL, payload=params_string)\n",
    "\n",
    "        return str(result)"
   ]
  },
  {
   "cell_type": "code",
   "execution_count": null,
   "metadata": {},
   "outputs": [
    {
     "name": "stdout",
     "output_type": "stream",
     "text": [
      " * Serving Flask app \"__main__\" (lazy loading)\n",
      " * Environment: production\n",
      "   WARNING: Do not use the development server in a production environment.\n",
      "   Use a production WSGI server instead.\n",
      " * Debug mode: off\n"
     ]
    },
    {
     "name": "stderr",
     "output_type": "stream",
     "text": [
      " * Running on http://127.0.0.1:5000/ (Press CTRL+C to quit)\n",
      "127.0.0.1 - - [06/Apr/2019 00:11:33] \"\u001b[37mPOST /lists/create HTTP/1.1\u001b[0m\" 200 -\n"
     ]
    }
   ],
   "source": [
    "\n",
    "if __name__ == '__main__':\n",
    "    app.run()"
   ]
  },
  {
   "cell_type": "code",
   "execution_count": null,
   "metadata": {},
   "outputs": [],
   "source": []
  },
  {
   "cell_type": "code",
   "execution_count": null,
   "metadata": {},
   "outputs": [],
   "source": []
  },
  {
   "cell_type": "code",
   "execution_count": null,
   "metadata": {},
   "outputs": [],
   "source": []
  }
 ],
 "metadata": {
  "kernelspec": {
   "display_name": "Python 3",
   "language": "python",
   "name": "python3"
  },
  "language_info": {
   "codemirror_mode": {
    "name": "ipython",
    "version": 3
   },
   "file_extension": ".py",
   "mimetype": "text/x-python",
   "name": "python",
   "nbconvert_exporter": "python",
   "pygments_lexer": "ipython3",
   "version": "3.6.6"
  }
 },
 "nbformat": 4,
 "nbformat_minor": 2
}
